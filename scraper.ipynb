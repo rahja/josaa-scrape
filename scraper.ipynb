{
 "cells": [
  {
   "cell_type": "markdown",
   "metadata": {},
   "source": [
    "# JOSAA-scrape\n",
    "A python script to scrape the JOSAA OR/CR page at the [JOSAA Result Archieve](https://josaa.nic.in/Result/Result/OpeningClosingRankArchieve.aspx).\n",
    "\n",
    "Uses `requests`, `BeautifulSoup` and `pandas`\n",
    "\n",
    "I do not own this data, nor am I liable for any consequences of its usage."
   ]
  },
  {
   "cell_type": "code",
   "execution_count": 22,
   "metadata": {},
   "outputs": [],
   "source": [
    "import requests\n",
    "from bs4 import BeautifulSoup\n",
    "import pandas as pd\n",
    "from io import StringIO"
   ]
  },
  {
   "cell_type": "markdown",
   "metadata": {},
   "source": [
    "`params` is a dictionary containing params info from DevTools > Network > Params\n",
    "\n",
    "It is an ASP .NET powered form, so a `__VIEWSTATE` and `__EVENTVALIDATION` are assigned to every session. Every dropdown selection adds some encoded info to these parameters, so it is not possible to send them all at once.\n",
    "\n",
    "We can get these values from the hidden `__VIEWSTATE` and similar inputs on the page after every POST request.\n",
    "\n",
    "The `josaa_scrape()` function return a pandas dataframe containing the year and round specific OR/CR.\n",
    "\n",
    "`pandas` converts the OR/CR to `float`s, so I typecast them back as `int`s.\n",
    "\n",
    "2016 only had 6 rounds for some reason, so the ugly adjustments were required in `years` and `rounds`."
   ]
  },
  {
   "cell_type": "code",
   "execution_count": 23,
   "metadata": {},
   "outputs": [],
   "source": [
    "url = 'https://josaa.admissions.nic.in/applicant/seatmatrix/openingclosingrankarchieve.aspx'\n",
    "\n",
    "params = {\n",
    "    \"ctl00$ContentPlaceHolder1$ddlInstype\": \"ALL\",\n",
    "    \"ctl00$ContentPlaceHolder1$ddlInstitute\": \"ALL\",\n",
    "    \"ctl00$ContentPlaceHolder1$ddlBranch\": \"ALL\",\n",
    "    \"ctl00$ContentPlaceHolder1$ddlSeatType\": \"OPNO\",\n",
    "    \"ctl00$ContentPlaceHolder1$btnSubmit\": \"Submit\"\n",
    "}"
   ]
  },
  {
   "cell_type": "code",
   "execution_count": 24,
   "metadata": {},
   "outputs": [],
   "source": [
    "def josaa_scrape(year, Round):\n",
    "    \"\"\"\n",
    "    Sample usage: df = josaa_scrape(\"2018\", \"1\")\n",
    "    df.info()\n",
    "    \"\"\"\n",
    "    with requests.Session() as s:\n",
    "        R = s.get(url)\n",
    "        data = {}\n",
    "        data.update({tag['name']: tag['value'] for tag in BeautifulSoup(R.content, 'lxml').select('input[name^=__]')})\n",
    "        data[\"ctl00$ContentPlaceHolder1$ddlYear\"] = year\n",
    "        R = s.post(url, data=data)\n",
    "\n",
    "        data.update({tag['name']: tag['value'] for tag in BeautifulSoup(R.content, 'lxml').select('input[name^=__]')})\n",
    "        data[\"ctl00$ContentPlaceHolder1$ddlroundno\"] = Round\n",
    "        R = s.post(url, data=data)\n",
    "\n",
    "        for key, value in params.items():\n",
    "            data.update({tag['name']: tag['value'] for tag in BeautifulSoup(R.content, 'lxml').select('input[name^=__]')})\n",
    "            data[key] = value\n",
    "            R = s.post(url, data=data)\n",
    "        # print(R.text)\n",
    "\n",
    "    table = BeautifulSoup(R.text, 'lxml').find(id = 'ctl00_ContentPlaceHolder1_GridView1')\n",
    "    df = pd.read_html(StringIO(table.prettify()))[0]\n",
    "    df.dropna(inplace = True, how=\"all\")\n",
    "\n",
    "    df[\"Year\"] = year\n",
    "    df[\"Round\"] = Round\n",
    "    df['Opening Rank'] = df['Opening Rank'].astype(int)\n",
    "    df['Closing Rank'] = df['Closing Rank'].astype(int)\n",
    "    return df\n"
   ]
  },
  {
   "cell_type": "code",
   "execution_count": 25,
   "metadata": {},
   "outputs": [],
   "source": [
    "# List of years and number of rounds available for each\n",
    "year_rounds = [\n",
    "    {\"year\": 2024, \"rounds\": 5},\n",
    "    {\"year\": 2023, \"rounds\": 6},\n",
    "    {\"year\": 2022, \"rounds\": 6},\n",
    "    {\"year\": 2021, \"rounds\": 6}\n",
    "    # Add more years/rounds if needed\n",
    "]"
   ]
  },
  {
   "cell_type": "code",
   "execution_count": 26,
   "metadata": {},
   "outputs": [
    {
     "name": "stdout",
     "output_type": "stream",
     "text": [
      "📥 Scraping Year: 2024, Round: 1\n",
      "📥 Scraping Year: 2024, Round: 2\n",
      "📥 Scraping Year: 2024, Round: 3\n",
      "📥 Scraping Year: 2024, Round: 4\n",
      "📥 Scraping Year: 2024, Round: 5\n",
      "📥 Scraping Year: 2023, Round: 1\n",
      "📥 Scraping Year: 2023, Round: 2\n",
      "📥 Scraping Year: 2023, Round: 3\n",
      "📥 Scraping Year: 2023, Round: 4\n",
      "📥 Scraping Year: 2023, Round: 5\n",
      "📥 Scraping Year: 2023, Round: 6\n",
      "📥 Scraping Year: 2022, Round: 1\n",
      "📥 Scraping Year: 2022, Round: 2\n",
      "📥 Scraping Year: 2022, Round: 3\n",
      "📥 Scraping Year: 2022, Round: 4\n",
      "📥 Scraping Year: 2022, Round: 5\n",
      "📥 Scraping Year: 2022, Round: 6\n",
      "📥 Scraping Year: 2021, Round: 1\n",
      "📥 Scraping Year: 2021, Round: 2\n",
      "📥 Scraping Year: 2021, Round: 3\n",
      "📥 Scraping Year: 2021, Round: 4\n",
      "📥 Scraping Year: 2021, Round: 5\n",
      "📥 Scraping Year: 2021, Round: 6\n",
      "All Scrapped\n"
     ]
    }
   ],
   "source": [
    "for yr in year_rounds:\n",
    "    year = yr[\"year\"]\n",
    "    num_rounds = yr[\"rounds\"]\n",
    "\n",
    "    for rnd in range(1, num_rounds + 1):\n",
    "        print(f\"📥 Scraping Year: {year}, Round: {rnd}\")\n",
    "        df = josaa_scrape(year, rnd)\n",
    "# saving the dataframe\n",
    "        df.to_csv(f\"data/{year}-{rnd}.csv\", index=False)\n",
    "print(f\"All Scrapped\")\n"
   ]
  },
  {
   "cell_type": "code",
   "execution_count": null,
   "metadata": {},
   "outputs": [],
   "source": [
    "# for year in years:\n",
    "#     for Round in rounds:\n",
    "#         josaa_scrape(year, Round).to_csv(path_or_buf= year + \"-\" + Round + \".csv\", index=False)"
   ]
  },
  {
   "cell_type": "code",
   "execution_count": null,
   "metadata": {},
   "outputs": [],
   "source": []
  }
 ],
 "metadata": {
  "kernelspec": {
   "display_name": "Python 3 (ipykernel)",
   "language": "python",
   "name": "python3"
  },
  "language_info": {
   "codemirror_mode": {
    "name": "ipython",
    "version": 3
   },
   "file_extension": ".py",
   "mimetype": "text/x-python",
   "name": "python",
   "nbconvert_exporter": "python",
   "pygments_lexer": "ipython3",
   "version": "3.11.11"
  }
 },
 "nbformat": 4,
 "nbformat_minor": 4
}
